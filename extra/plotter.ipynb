{
 "cells": [
  {
   "cell_type": "code",
   "execution_count": null,
   "metadata": {
    "collapsed": true,
    "deletable": true,
    "editable": true
   },
   "outputs": [],
   "source": [
    "import matplotlib.pyplot as mplt\n",
    "import numpy as np\n",
    "import ast\n",
    "import csv\n",
    "import os\n",
    "\n",
    "\n",
    "# set matplotlib to print inline (Jupyter)\n",
    "%matplotlib inline\n",
    "\n",
    "pth = '../data/dump/'\n",
    "files = os.listdir(pth)\n",
    "\n",
    "def readDump(source):\n",
    "    with open(pth + source, 'rb') as ff:\n",
    "        out = ff.read()\n",
    "        out = out.decode('utf-8')\n",
    "        return out.split('\\n')"
   ]
  },
  {
   "cell_type": "code",
   "execution_count": null,
   "metadata": {
    "collapsed": false,
    "deletable": true,
    "editable": true
   },
   "outputs": [],
   "source": [
    "bests = list()\n",
    "for f in files:\n",
    "    raw_data = readDump(f)[2:]\n",
    "    sep_gens = [raw_data[i-4: i] for i in range(4, len(raw_data), 4)]\n",
    "    gen_num = [int(j.split('***')[1]) for j in [i[0] for i in sep_gens]]\n",
    "    gen_gen = [ast.literal_eval(i[1]) for i in sep_gens]\n",
    "    gen_fit = [ast.literal_eval(i[2]) for i in sep_gens]\n",
    "    gen_sur = [ast.literal_eval(i[3]) for i in sep_gens]\n",
    "    \n",
    "    # plotting data\n",
    "    mplt.figure(figsize=(16, 7))\n",
    "    mplt.title(f)\n",
    "    mplt.ylim((0.25, 0.3))\n",
    "    view_gens = [gen_num[i] for i in range(0, len(gen_num), 2)]\n",
    "    view_gens.append(gen_num[-1])\n",
    "    for i in view_gens:\n",
    "        avg = 0\n",
    "        for j in range(len(gen_fit[i])):\n",
    "            avg += gen_fit[i][j]\n",
    "            if j not in gen_sur[i]:\n",
    "                mplt.scatter(gen_num[i], gen_fit[i][j], color='r')\n",
    "            else:\n",
    "                mplt.scatter(gen_num[i], gen_fit[i][j], color='y')\n",
    "        avg = avg / len(gen_fit[i])\n",
    "        mplt.scatter(gen_num[i], avg, color='b')\n",
    "    mplt.scatter(gen_num[len(gen_num) - 1], min(gen_fit[len(gen_num) - 1]), color='g')\n",
    "    l_gen = gen_gen[len(gen_num) - 1]\n",
    "    l_fit = gen_fit[len(gen_num) - 1]\n",
    "    bests.append((f, l_gen[l_fit.index(min(l_fit))]))\n"
   ]
  },
  {
   "cell_type": "code",
   "execution_count": null,
   "metadata": {
    "collapsed": false,
    "deletable": true,
    "editable": true
   },
   "outputs": [],
   "source": [
    "def csvRead(file, filepth='../data/', delimiter=';'):\n",
    "    with open(filepth + file, newline='') as csv_file:\n",
    "        csv_data = csv.reader(csv_file, delimiter=delimiter)\n",
    "        return list(csv_data)[1:]\n",
    "\n",
    "def loadLittleInfo(csv_reader_out):\n",
    "    clients = [int(data_point[2]) for data_point in csv_reader_out]\n",
    "    little_info = np.array(clients)\n",
    "    return little_info\n",
    "\n",
    "cc = csvRead('neighborhood_description.csv')\n",
    "info = loadLittleInfo(cc)\n",
    "\n",
    "for f, best in bests:\n",
    "    days = set(best)\n",
    "    total_revisions = [\n",
    "        sum(info[i] for i in range(len(best)) if best[i] == d)\n",
    "        for d in days]\n",
    "    \n",
    "    avg = np.mean(total_revisions)\n",
    "    \n",
    "    mplt.figure(figsize=(10, 4))\n",
    "    mplt.title(f)\n",
    "    mplt.bar(list(days), total_revisions)\n",
    "    mplt.plot([1, len(days)], [avg, avg], color=\"red\")\n"
   ]
  },
  {
   "cell_type": "code",
   "execution_count": null,
   "metadata": {
    "collapsed": true,
    "deletable": true,
    "editable": true
   },
   "outputs": [],
   "source": []
  }
 ],
 "metadata": {
  "kernelspec": {
   "display_name": "Python 2",
   "language": "python",
   "name": "python2"
  },
  "language_info": {
   "codemirror_mode": {
    "name": "ipython",
    "version": 2
   },
   "file_extension": ".py",
   "mimetype": "text/x-python",
   "name": "python",
   "nbconvert_exporter": "python",
   "pygments_lexer": "ipython2",
   "version": "2.7.14"
  }
 },
 "nbformat": 4,
 "nbformat_minor": 2
}
