{
 "cells": [
  {
   "cell_type": "code",
   "execution_count": null,
   "metadata": {},
   "outputs": [],
   "source": [
    "import matplotlib.pyplot as mplt\n",
    "import numpy as np\n",
    "import ast\n",
    "import os\n",
    "\n",
    "\n",
    "# set matplotlib to print inline (Jupyter)\n",
    "%matplotlib inline\n",
    "\n",
    "pth = '../data/dump/'\n",
    "files = os.listdir(pth)\n",
    "\n",
    "def readDump(source):\n",
    "    with open(pth + source, 'rb') as ff:\n",
    "        out = ff.read()\n",
    "        out = out.decode('utf-8')\n",
    "        return out.split('\\n')"
   ]
  },
  {
   "cell_type": "code",
   "execution_count": null,
   "metadata": {},
   "outputs": [],
   "source": [
    "for f in files:\n",
    "    raw_data = readDump(f)[2:]\n",
    "    sep_gens = [raw_data[i-4: i] for i in range(4, len(raw_data), 4)]\n",
    "    gen_num = [int(j.split('***')[1]) for j in [i[0] for i in sep_gens]]\n",
    "    gen_fit = [ast.literal_eval(i[2]) for i in sep_gens]\n",
    "    gen_sur = [ast.literal_eval(i[3]) for i in sep_gens]\n",
    "    \n",
    "    # plotting data\n",
    "    mplt.figure(figsize=(15,5))\n",
    "    mplt.title(f)\n",
    "    mplt.ylim((0.360, 0.395))\n",
    "    view_gens = [gen_num[i] for i in range(0, len(gen_num), 2)]\n",
    "    view_gens.append(gen_num[-1])\n",
    "    for i in view_gens:\n",
    "        avg = 0\n",
    "        for j in range(len(gen_fit[i])):\n",
    "            avg += gen_fit[i][j]\n",
    "            if j not in gen_sur[i]:\n",
    "                mplt.scatter(gen_num[i], gen_fit[i][j], color='r')\n",
    "            else:\n",
    "                mplt.scatter(gen_num[i], gen_fit[i][j], color='y')\n",
    "        avg = avg / len(gen_fit[i])\n",
    "        mplt.scatter(gen_num[i], avg, color='b')\n",
    "    mplt.scatter(gen_num[len(gen_num) - 1], min(gen_fit[len(gen_num) - 1]), color='g')\n"
   ]
  },
  {
   "cell_type": "code",
   "execution_count": null,
   "metadata": {},
   "outputs": [],
   "source": []
  }
 ],
 "metadata": {
  "kernelspec": {
   "display_name": "Python 3",
   "language": "python",
   "name": "python3"
  },
  "language_info": {
   "codemirror_mode": {
    "name": "ipython",
    "version": 3
   },
   "file_extension": ".py",
   "mimetype": "text/x-python",
   "name": "python",
   "nbconvert_exporter": "python",
   "pygments_lexer": "ipython3",
   "version": "3.6.2"
  }
 },
 "nbformat": 4,
 "nbformat_minor": 2
}
